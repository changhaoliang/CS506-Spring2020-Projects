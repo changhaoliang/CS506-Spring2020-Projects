{
 "cells": [
  {
   "cell_type": "code",
   "execution_count": 259,
   "metadata": {},
   "outputs": [],
   "source": [
    "import numpy as np\n",
    "import matplotlib.pyplot as plt\n",
    "import pandas as pd"
   ]
  },
  {
   "cell_type": "code",
   "execution_count": 260,
   "metadata": {},
   "outputs": [],
   "source": [
    "nh = pd.read_csv('../../data/cases_nh.csv')"
   ]
  },
  {
   "cell_type": "code",
   "execution_count": 261,
   "metadata": {},
   "outputs": [
    {
     "data": {
      "text/plain": [
       "(1282, 5)"
      ]
     },
     "execution_count": 261,
     "metadata": {},
     "output_type": "execute_result"
    }
   ],
   "source": [
    "nh.shape"
   ]
  },
  {
   "cell_type": "code",
   "execution_count": 262,
   "metadata": {},
   "outputs": [
    {
     "data": {
      "text/html": [
       "<div>\n",
       "<style scoped>\n",
       "    .dataframe tbody tr th:only-of-type {\n",
       "        vertical-align: middle;\n",
       "    }\n",
       "\n",
       "    .dataframe tbody tr th {\n",
       "        vertical-align: top;\n",
       "    }\n",
       "\n",
       "    .dataframe thead th {\n",
       "        text-align: right;\n",
       "    }\n",
       "</style>\n",
       "<table border=\"1\" class=\"dataframe\">\n",
       "  <thead>\n",
       "    <tr style=\"text-align: right;\">\n",
       "      <th></th>\n",
       "      <th>file name</th>\n",
       "      <th>title</th>\n",
       "      <th>type</th>\n",
       "      <th>decision</th>\n",
       "      <th>text</th>\n",
       "    </tr>\n",
       "  </thead>\n",
       "  <tbody>\n",
       "    <tr>\n",
       "      <td>0</td>\n",
       "      <td>Tarbl099.pdf</td>\n",
       "      <td>TARBELL ADMINISTRATOR, INC., TRUSTEE OF THE TA...</td>\n",
       "      <td>Non-Criminal</td>\n",
       "      <td>Affirmed in part; reversed in part; and remanded.</td>\n",
       "      <td>[\"NOTICE: This opinion is subject to motions f...</td>\n",
       "    </tr>\n",
       "    <tr>\n",
       "      <td>1</td>\n",
       "      <td>sider051.pdf</td>\n",
       "      <td>THE STATE OF NEW HAMPSHIRE v. GEORGE SIDERIS</td>\n",
       "      <td>Non-Criminal</td>\n",
       "      <td>vacated; and remanded.</td>\n",
       "      <td>[\"NOTICE: This opinion is subject to motions f...</td>\n",
       "    </tr>\n",
       "    <tr>\n",
       "      <td>2</td>\n",
       "      <td>danie080.pdf</td>\n",
       "      <td>RYDER DANIELS &amp; a. v. TOWN OF LONDONDERRY &amp; a.</td>\n",
       "      <td>Non-Criminal</td>\n",
       "      <td>Affirmed.</td>\n",
       "      <td>[\"NOTICE: This opinion is subject to motions f...</td>\n",
       "    </tr>\n",
       "    <tr>\n",
       "      <td>3</td>\n",
       "      <td>macdo019.pdf</td>\n",
       "      <td>THE STATE OF NEW HAMPSHIRE v. DAVID A. MACDONALD</td>\n",
       "      <td>Non-Criminal</td>\n",
       "      <td>Affirmed.</td>\n",
       "      <td>[\"NOTICE: This opinion is subject to motions f...</td>\n",
       "    </tr>\n",
       "    <tr>\n",
       "      <td>4</td>\n",
       "      <td>liber139.pdf</td>\n",
       "      <td>LIBERTARIAN PARTY OF NEW HAMPSHIRE v. SECRETAR...</td>\n",
       "      <td>Non-Criminal</td>\n",
       "      <td>Dismissed.</td>\n",
       "      <td>[\"NOTICE: This opinion is subject to motions f...</td>\n",
       "    </tr>\n",
       "  </tbody>\n",
       "</table>\n",
       "</div>"
      ],
      "text/plain": [
       "      file name                                              title  \\\n",
       "0  Tarbl099.pdf  TARBELL ADMINISTRATOR, INC., TRUSTEE OF THE TA...   \n",
       "1  sider051.pdf       THE STATE OF NEW HAMPSHIRE v. GEORGE SIDERIS   \n",
       "2  danie080.pdf     RYDER DANIELS & a. v. TOWN OF LONDONDERRY & a.   \n",
       "3  macdo019.pdf   THE STATE OF NEW HAMPSHIRE v. DAVID A. MACDONALD   \n",
       "4  liber139.pdf  LIBERTARIAN PARTY OF NEW HAMPSHIRE v. SECRETAR...   \n",
       "\n",
       "           type                                           decision  \\\n",
       "0  Non-Criminal  Affirmed in part; reversed in part; and remanded.   \n",
       "1  Non-Criminal                             vacated; and remanded.   \n",
       "2  Non-Criminal                                          Affirmed.   \n",
       "3  Non-Criminal                                          Affirmed.   \n",
       "4  Non-Criminal                                         Dismissed.   \n",
       "\n",
       "                                                text  \n",
       "0  [\"NOTICE: This opinion is subject to motions f...  \n",
       "1  [\"NOTICE: This opinion is subject to motions f...  \n",
       "2  [\"NOTICE: This opinion is subject to motions f...  \n",
       "3  [\"NOTICE: This opinion is subject to motions f...  \n",
       "4  [\"NOTICE: This opinion is subject to motions f...  "
      ]
     },
     "execution_count": 262,
     "metadata": {},
     "output_type": "execute_result"
    }
   ],
   "source": [
    "nh.head()"
   ]
  },
  {
   "cell_type": "code",
   "execution_count": 263,
   "metadata": {},
   "outputs": [
    {
     "data": {
      "text/plain": [
       "array(['Non-Criminal', 'Criminal', nan], dtype=object)"
      ]
     },
     "execution_count": 263,
     "metadata": {},
     "output_type": "execute_result"
    }
   ],
   "source": [
    "nh.type.unique() "
   ]
  },
  {
   "cell_type": "code",
   "execution_count": 264,
   "metadata": {},
   "outputs": [
    {
     "data": {
      "text/plain": [
       "(269, 5)"
      ]
     },
     "execution_count": 264,
     "metadata": {},
     "output_type": "execute_result"
    }
   ],
   "source": [
    "criminal = nh[nh['type']=='Criminal']   # there are 269 criminal cases in NH data\n",
    "criminal.shape   "
   ]
  },
  {
   "cell_type": "code",
   "execution_count": null,
   "metadata": {},
   "outputs": [],
   "source": []
  },
  {
   "cell_type": "code",
   "execution_count": 265,
   "metadata": {},
   "outputs": [
    {
     "data": {
      "text/plain": [
       "array(['in part; and remanded.', 'Affirmed.',\n",
       "       'Affirmed in part; reversed in part; and remanded.',\n",
       "       'Reversed and remanded.', 'Reversed.',\n",
       "       'Sentence vacated and remanded.', 'Vacated and remanded.',\n",
       "       'Affirmed in part; reversed in part; remanded.',\n",
       "       'Affirmed in part; vacated in part; remanded.', 'Remanded.',\n",
       "       'Affirmed in part and vacated', 'remanded.', 'part; and remanded.',\n",
       "       'Affirmed in part; and reversed', 'vacated; and remanded.',\n",
       "       'Sentence vacated; remanded', 'reversed in part.',\n",
       "       'vacated in part.', 'reversed; and remanded.',\n",
       "       'part; remanded for', 'and reversed in part.',\n",
       "       'Affirmed in part and reversed in part.',\n",
       "       'vacated; and remanded for', 'Affirmed and remanded.'],\n",
       "      dtype=object)"
      ]
     },
     "execution_count": 265,
     "metadata": {},
     "output_type": "execute_result"
    }
   ],
   "source": [
    "criminal.decision.unique()             "
   ]
  },
  {
   "cell_type": "code",
   "execution_count": 266,
   "metadata": {},
   "outputs": [
    {
     "name": "stderr",
     "output_type": "stream",
     "text": [
      "/opt/anaconda3/lib/python3.7/site-packages/pandas/core/generic.py:5208: SettingWithCopyWarning: \n",
      "A value is trying to be set on a copy of a slice from a DataFrame.\n",
      "Try using .loc[row_indexer,col_indexer] = value instead\n",
      "\n",
      "See the caveats in the documentation: http://pandas.pydata.org/pandas-docs/stable/user_guide/indexing.html#returning-a-view-versus-a-copy\n",
      "  self[name] = value\n"
     ]
    },
    {
     "data": {
      "text/plain": [
       "(25, 5)"
      ]
     },
     "execution_count": 266,
     "metadata": {},
     "output_type": "execute_result"
    }
   ],
   "source": [
    "criminal.decision = criminal.decision.str.lower().copy()\n",
    "part =  criminal[criminal.decision.str.contains('part')]\n",
    "part.shape"
   ]
  },
  {
   "cell_type": "code",
   "execution_count": 267,
   "metadata": {},
   "outputs": [
    {
     "data": {
      "text/plain": [
       "(244, 5)"
      ]
     },
     "execution_count": 267,
     "metadata": {},
     "output_type": "execute_result"
    }
   ],
   "source": [
    "no_part = criminal[~criminal.decision.str.contains('part')]\n",
    "no_part.shape"
   ]
  },
  {
   "cell_type": "code",
   "execution_count": 268,
   "metadata": {},
   "outputs": [
    {
     "data": {
      "text/html": [
       "<div>\n",
       "<style scoped>\n",
       "    .dataframe tbody tr th:only-of-type {\n",
       "        vertical-align: middle;\n",
       "    }\n",
       "\n",
       "    .dataframe tbody tr th {\n",
       "        vertical-align: top;\n",
       "    }\n",
       "\n",
       "    .dataframe thead th {\n",
       "        text-align: right;\n",
       "    }\n",
       "</style>\n",
       "<table border=\"1\" class=\"dataframe\">\n",
       "  <thead>\n",
       "    <tr style=\"text-align: right;\">\n",
       "      <th></th>\n",
       "      <th>file name</th>\n",
       "      <th>title</th>\n",
       "      <th>type</th>\n",
       "      <th>decision</th>\n",
       "      <th>text</th>\n",
       "    </tr>\n",
       "  </thead>\n",
       "  <tbody>\n",
       "    <tr>\n",
       "      <td>8</td>\n",
       "      <td>labra011.pdf</td>\n",
       "      <td>THE STATE OF NEW HAMPSHIRE v. MICHAEL J. LABRA...</td>\n",
       "      <td>Criminal</td>\n",
       "      <td>affirmed.</td>\n",
       "      <td>[\"NOTICE: This opinion is subject to motions f...</td>\n",
       "    </tr>\n",
       "    <tr>\n",
       "      <td>10</td>\n",
       "      <td>jenot137.pdf</td>\n",
       "      <td>THE STATE OF NEW HAMPSHIRE v. DOUGLAS JENOT</td>\n",
       "      <td>Criminal</td>\n",
       "      <td>affirmed.</td>\n",
       "      <td>[\"NOTICE: This opinion is subject to motions f...</td>\n",
       "    </tr>\n",
       "    <tr>\n",
       "      <td>17</td>\n",
       "      <td>munoz039.pdf</td>\n",
       "      <td>THE STATE OF NEW HAMPSHIRE v. PETER MUNOZ</td>\n",
       "      <td>Criminal</td>\n",
       "      <td>affirmed.</td>\n",
       "      <td>[\"NOTICE: This opinion is subject to motions f...</td>\n",
       "    </tr>\n",
       "    <tr>\n",
       "      <td>35</td>\n",
       "      <td>jense129.pdf</td>\n",
       "      <td>THE STATE OF NEW HAMPSHIRE v. GRAHAM JENSEN</td>\n",
       "      <td>Criminal</td>\n",
       "      <td>affirmed.</td>\n",
       "      <td>[\"NOTICE: This opinion is subject to motions f...</td>\n",
       "    </tr>\n",
       "    <tr>\n",
       "      <td>42</td>\n",
       "      <td>burge012.pdf</td>\n",
       "      <td>THE STATE OF NEW HAMPSHIRE v. JOHN BURGESS</td>\n",
       "      <td>Criminal</td>\n",
       "      <td>affirmed.</td>\n",
       "      <td>[\"NOTICE: This opinion is subject to motions f...</td>\n",
       "    </tr>\n",
       "    <tr>\n",
       "      <td>...</td>\n",
       "      <td>...</td>\n",
       "      <td>...</td>\n",
       "      <td>...</td>\n",
       "      <td>...</td>\n",
       "      <td>...</td>\n",
       "    </tr>\n",
       "    <tr>\n",
       "      <td>1257</td>\n",
       "      <td>2018074labrie.pdf</td>\n",
       "      <td>THE STATE OF NEW HAMPSHIRE v. OWEN LABRIE</td>\n",
       "      <td>Criminal</td>\n",
       "      <td>affirmed.</td>\n",
       "      <td>[\"NOTICE: This opinion is subject to motions f...</td>\n",
       "    </tr>\n",
       "    <tr>\n",
       "      <td>1260</td>\n",
       "      <td>2018015bazinet.pdf</td>\n",
       "      <td>THE STATE OF NEW HAMPSHIRE v. JAMES BAZINET</td>\n",
       "      <td>Criminal</td>\n",
       "      <td>affirmed.</td>\n",
       "      <td>[\"NOTICE: This opinion is subject to motions f...</td>\n",
       "    </tr>\n",
       "    <tr>\n",
       "      <td>1264</td>\n",
       "      <td>2018079bjorkman.pdf</td>\n",
       "      <td>THE STATE OF NEW HAMPSHIRE v. HJALMAR BJORKMAN</td>\n",
       "      <td>Criminal</td>\n",
       "      <td>affirmed.</td>\n",
       "      <td>[\"NOTICE: This opinion is subject to motions f...</td>\n",
       "    </tr>\n",
       "    <tr>\n",
       "      <td>1274</td>\n",
       "      <td>2018062afshar.pdf</td>\n",
       "      <td>THE STATE OF NEW HAMPSHIRE v. FOAD AFSHAR</td>\n",
       "      <td>Criminal</td>\n",
       "      <td>affirmed and remanded.</td>\n",
       "      <td>[\"NOTICE: This opinion is subject to motions f...</td>\n",
       "    </tr>\n",
       "    <tr>\n",
       "      <td>1275</td>\n",
       "      <td>2018047martinko.pdf</td>\n",
       "      <td>THE STATE OF NEW HAMPSHIRE v. DAVID MARTINKO</td>\n",
       "      <td>Criminal</td>\n",
       "      <td>affirmed.</td>\n",
       "      <td>[\"NOTICE: This opinion is subject to motions f...</td>\n",
       "    </tr>\n",
       "  </tbody>\n",
       "</table>\n",
       "<p>194 rows × 5 columns</p>\n",
       "</div>"
      ],
      "text/plain": [
       "                file name                                              title  \\\n",
       "8            labra011.pdf  THE STATE OF NEW HAMPSHIRE v. MICHAEL J. LABRA...   \n",
       "10           jenot137.pdf        THE STATE OF NEW HAMPSHIRE v. DOUGLAS JENOT   \n",
       "17           munoz039.pdf          THE STATE OF NEW HAMPSHIRE v. PETER MUNOZ   \n",
       "35           jense129.pdf        THE STATE OF NEW HAMPSHIRE v. GRAHAM JENSEN   \n",
       "42           burge012.pdf         THE STATE OF NEW HAMPSHIRE v. JOHN BURGESS   \n",
       "...                   ...                                                ...   \n",
       "1257    2018074labrie.pdf          THE STATE OF NEW HAMPSHIRE v. OWEN LABRIE   \n",
       "1260   2018015bazinet.pdf        THE STATE OF NEW HAMPSHIRE v. JAMES BAZINET   \n",
       "1264  2018079bjorkman.pdf     THE STATE OF NEW HAMPSHIRE v. HJALMAR BJORKMAN   \n",
       "1274    2018062afshar.pdf          THE STATE OF NEW HAMPSHIRE v. FOAD AFSHAR   \n",
       "1275  2018047martinko.pdf       THE STATE OF NEW HAMPSHIRE v. DAVID MARTINKO   \n",
       "\n",
       "          type                decision  \\\n",
       "8     Criminal               affirmed.   \n",
       "10    Criminal               affirmed.   \n",
       "17    Criminal               affirmed.   \n",
       "35    Criminal               affirmed.   \n",
       "42    Criminal               affirmed.   \n",
       "...        ...                     ...   \n",
       "1257  Criminal               affirmed.   \n",
       "1260  Criminal               affirmed.   \n",
       "1264  Criminal               affirmed.   \n",
       "1274  Criminal  affirmed and remanded.   \n",
       "1275  Criminal               affirmed.   \n",
       "\n",
       "                                                   text  \n",
       "8     [\"NOTICE: This opinion is subject to motions f...  \n",
       "10    [\"NOTICE: This opinion is subject to motions f...  \n",
       "17    [\"NOTICE: This opinion is subject to motions f...  \n",
       "35    [\"NOTICE: This opinion is subject to motions f...  \n",
       "42    [\"NOTICE: This opinion is subject to motions f...  \n",
       "...                                                 ...  \n",
       "1257  [\"NOTICE: This opinion is subject to motions f...  \n",
       "1260  [\"NOTICE: This opinion is subject to motions f...  \n",
       "1264  [\"NOTICE: This opinion is subject to motions f...  \n",
       "1274  [\"NOTICE: This opinion is subject to motions f...  \n",
       "1275  [\"NOTICE: This opinion is subject to motions f...  \n",
       "\n",
       "[194 rows x 5 columns]"
      ]
     },
     "execution_count": 268,
     "metadata": {},
     "output_type": "execute_result"
    }
   ],
   "source": [
    "affirmed = no_part[no_part.decision.str.contains('affirm')]\n",
    "affirmed"
   ]
  },
  {
   "cell_type": "code",
   "execution_count": 269,
   "metadata": {},
   "outputs": [
    {
     "data": {
      "text/plain": [
       "(50, 5)"
      ]
     },
     "execution_count": 269,
     "metadata": {},
     "output_type": "execute_result"
    }
   ],
   "source": [
    "reversed = no_part[~no_part.decision.str.contains('affirm')]\n",
    "reversed.shape"
   ]
  },
  {
   "cell_type": "code",
   "execution_count": 270,
   "metadata": {},
   "outputs": [],
   "source": [
    "\n",
    "#affirmed = criminal[criminal.decision=='Affirmed.']   # separate the affirmed, reversed, partial reversed cases\n",
    "#reversed = criminal[criminal.decision=='Reversed.']\n",
    "#partial_reversed = criminal[criminal.decision!='Affirmed.'][criminal.decision!='Reversed.']"
   ]
  },
  {
   "cell_type": "markdown",
   "metadata": {},
   "source": [
    "The proportion of affirmed cases is 71.4%, the proportion of reversed cases is 3.3%, the proportion of partial reversed cases is 25.3."
   ]
  },
  {
   "cell_type": "code",
   "execution_count": 271,
   "metadata": {},
   "outputs": [
    {
     "data": {
      "image/png": "[encoded data removed]",
      "text/plain": [
       "<Figure size 432x288 with 1 Axes>"
      ]
     },
     "metadata": {},
     "output_type": "display_data"
    }
   ],
   "source": [
    "labels='affirmed','reversed','partial_reversed'\n",
    "sizes= (len(affirmed)/len(criminal))*100,(len(reversed)/len(criminal))*100,(len(part)/len(criminal))*100\n",
    "colors='yellowgreen','gold','lightskyblue'\n",
    "explode=0.1,0.1,0.1\n",
    "plt.pie(x=sizes,explode=explode,labels=labels,colors=colors,autopct='%1.1f%%',shadow=True,labeldistance=1.1,startangle=50,radius=1,counterclock=True)\n",
    "plt.axis('equal')\n",
    "plt.show()"
   ]
  },
  {
   "cell_type": "code",
   "execution_count": 272,
   "metadata": {},
   "outputs": [],
   "source": [
    "\n",
    "informant = criminal[criminal.text.str.contains('informant')]\n",
    "non_informant =  criminal[~criminal.text.str.contains('informant')]"
   ]
  },
  {
   "cell_type": "code",
   "execution_count": 273,
   "metadata": {},
   "outputs": [
    {
     "data": {
      "text/plain": [
       "(15, 5)"
      ]
     },
     "execution_count": 273,
     "metadata": {},
     "output_type": "execute_result"
    }
   ],
   "source": [
    "informant.shape"
   ]
  },
  {
   "cell_type": "code",
   "execution_count": null,
   "metadata": {},
   "outputs": [],
   "source": []
  },
  {
   "cell_type": "code",
   "execution_count": 274,
   "metadata": {},
   "outputs": [
    {
     "data": {
      "image/png": "[encoded data removed]",
      "text/plain": [
       "<Figure size 432x288 with 1 Axes>"
      ]
     },
     "metadata": {},
     "output_type": "display_data"
    }
   ],
   "source": [
    "labels='informant','non_informant'\n",
    "sizes= (len(informant)/len(criminal))*100,(len(non_informant)/len(criminal))*100\n",
    "colors='aqua','gold'\n",
    "explode=0.1,0.1\n",
    "plt.pie(x=sizes,explode=explode,labels=labels,colors=colors,autopct='%1.1f%%',shadow=True,labeldistance=1.1,startangle=50,radius=1,counterclock=True)\n",
    "plt.axis('equal')\n",
    "plt.show()"
   ]
  },
  {
   "cell_type": "markdown",
   "metadata": {},
   "source": [
    "There are some common features in affirmed and reversed, like 'case','court','new hampshire', this words appear many times, but it doesn't make senses. So we delete these words. Meanwhile, there are many numbers in the case. The numbers usually appear in two places: the case number and the law number. We can't tell where the numbers come from. So we delete the number."
   ]
  },
  {
   "cell_type": "code",
   "execution_count": 275,
   "metadata": {},
   "outputs": [],
   "source": [
    "from sklearn.feature_extraction.text import TfidfVectorizer"
   ]
  },
  {
   "cell_type": "code",
   "execution_count": 276,
   "metadata": {},
   "outputs": [],
   "source": [
    "def tfidf(X,n):\n",
    "    vectorizer = TfidfVectorizer(stop_words='english',max_features=n)\n",
    "    tfidf = vectorizer.fit_transform(X)\n",
    "    word = vectorizer.get_feature_names()\n",
    "    return word"
   ]
  },
  {
   "cell_type": "code",
   "execution_count": 277,
   "metadata": {},
   "outputs": [
    {
     "data": {
      "text/plain": [
       "['argues',\n",
       " 'case',\n",
       " 'counsel',\n",
       " 'court',\n",
       " 'defendant',\n",
       " 'did',\n",
       " 'evidence',\n",
       " 'hampshire',\n",
       " 'id',\n",
       " 'jury',\n",
       " 'new',\n",
       " 'omitted',\n",
       " 'police',\n",
       " 'rsa',\n",
       " 'rule',\n",
       " 'state',\n",
       " 'statute',\n",
       " 'testimony',\n",
       " 'trial',\n",
       " 'victim']"
      ]
     },
     "execution_count": 277,
     "metadata": {},
     "output_type": "execute_result"
    }
   ],
   "source": [
    "criminal_common_word = tfidf(criminal['text'],20)\n",
    "criminal_common_word"
   ]
  },
  {
   "cell_type": "code",
   "execution_count": 278,
   "metadata": {},
   "outputs": [],
   "source": [
    "import re\n",
    "def clean_common_word(text):           # delect the number, punctuation and criminal_word\n",
    "    text = re.sub(\"[\\s+\\.\\!\\/_,$%^*()+\\\"\\'\\[\\]]+|[+——！，。？、~@#￥%……&*（）:;]+\", \" \", text)  # remove punctuation\n",
    "    #text =  re.sub(\"[\\s+\\.\\!\\/_,$%^*()+\\\"\\'\\[\\]]+|[+——！，。？、~@#￥%……&*（）:;]+\", \" \", text) \n",
    "    #text = re.sub(r'[{}]+'.format(punctuation),'',text)\n",
    "    text = re.sub(\"[1234567890]\", \"\", text)  # remove punctuation\n",
    "    words=text.lower().split()          # lower case\n",
    "    words=[ w for w in words if w not in criminal_common_word]\n",
    "    #','.join('abc')-----'a,b,c'\n",
    "    return \" \".join(words)\n"
   ]
  },
  {
   "cell_type": "markdown",
   "metadata": {},
   "source": [
    "# analyze the affirmed cases and reversed cases"
   ]
  },
  {
   "cell_type": "code",
   "execution_count": 279,
   "metadata": {},
   "outputs": [],
   "source": [
    "def handle_all_cases(df):\n",
    "    for i in range(len(df)):\n",
    "        df.text.iloc[i] = clean_common_word(df.text.iloc[i])\n",
    "    return df"
   ]
  },
  {
   "cell_type": "code",
   "execution_count": null,
   "metadata": {},
   "outputs": [],
   "source": []
  },
  {
   "cell_type": "code",
   "execution_count": 280,
   "metadata": {},
   "outputs": [
    {
     "name": "stderr",
     "output_type": "stream",
     "text": [
      "/opt/anaconda3/lib/python3.7/site-packages/ipykernel_launcher.py:3: SettingWithCopyWarning: \n",
      "A value is trying to be set on a copy of a slice from a DataFrame\n",
      "\n",
      "See the caveats in the documentation: http://pandas.pydata.org/pandas-docs/stable/user_guide/indexing.html#returning-a-view-versus-a-copy\n",
      "  This is separate from the ipykernel package so we can avoid doing imports until\n"
     ]
    }
   ],
   "source": [
    "reversed = handle_all_cases(reversed)\n",
    "affirmed = handle_all_cases(affirmed)\n",
    "criminal = handle_all_cases(criminal)\n",
    "part = handle_all_cases(part)"
   ]
  },
  {
   "cell_type": "code",
   "execution_count": 241,
   "metadata": {},
   "outputs": [
    {
     "data": {
      "text/plain": [
       "['assault',\n",
       " 'child',\n",
       " 'conduct',\n",
       " 'court',\n",
       " 'defendant',\n",
       " 'defense',\n",
       " 'force',\n",
       " 'officers',\n",
       " 'person',\n",
       " 'sexual']"
      ]
     },
     "execution_count": 241,
     "metadata": {},
     "output_type": "execute_result"
    }
   ],
   "source": [
    "reversed_word = tfidf(reversed['text'],10)     # select the most important 10 features\n",
    "reversed_word"
   ]
  },
  {
   "cell_type": "code",
   "execution_count": 242,
   "metadata": {},
   "outputs": [
    {
     "data": {
      "text/plain": [
       "['court',\n",
       " 'defendant',\n",
       " 'defense',\n",
       " 'error',\n",
       " 'opinion',\n",
       " 'person',\n",
       " 'quotation',\n",
       " 'reasonable',\n",
       " 'testified',\n",
       " 'time']"
      ]
     },
     "execution_count": 242,
     "metadata": {},
     "output_type": "execute_result"
    }
   ],
   "source": [
    "affirmed_word = tfidf(affirmed['text'],10)\n",
    "affirmed_word"
   ]
  },
  {
   "cell_type": "code",
   "execution_count": 243,
   "metadata": {},
   "outputs": [
    {
     "data": {
      "text/plain": [
       "['assault',\n",
       " 'court',\n",
       " 'defendant',\n",
       " 'defense',\n",
       " 'error',\n",
       " 'law',\n",
       " 'person',\n",
       " 'quotation',\n",
       " 'reasonable',\n",
       " 'time']"
      ]
     },
     "execution_count": 243,
     "metadata": {},
     "output_type": "execute_result"
    }
   ],
   "source": [
    "criminal_word = tfidf(criminal['text'],10)\n",
    "criminal_word"
   ]
  },
  {
   "cell_type": "code",
   "execution_count": 244,
   "metadata": {},
   "outputs": [
    {
     "data": {
      "text/plain": [
       "['assault',\n",
       " 'charge',\n",
       " 'conclude',\n",
       " 'court',\n",
       " 'criminal',\n",
       " 'defendant',\n",
       " 'error',\n",
       " 'instruction',\n",
       " 'law',\n",
       " 'reasonable']"
      ]
     },
     "execution_count": 244,
     "metadata": {},
     "output_type": "execute_result"
    }
   ],
   "source": [
    "part_word = tfidf(part['text'],10)\n",
    "part_word"
   ]
  },
  {
   "cell_type": "markdown",
   "metadata": {},
   "source": [
    "When we select the most import 15 features in reversed cases and affirmed cases, we found reversed cases contains features: child and sexual. "
   ]
  },
  {
   "cell_type": "code",
   "execution_count": null,
   "metadata": {},
   "outputs": [],
   "source": []
  },
  {
   "cell_type": "markdown",
   "metadata": {},
   "source": [
    "# analyze the cases with informant and without"
   ]
  },
  {
   "cell_type": "code",
   "execution_count": 245,
   "metadata": {},
   "outputs": [
    {
     "name": "stderr",
     "output_type": "stream",
     "text": [
      "/opt/anaconda3/lib/python3.7/site-packages/ipykernel_launcher.py:3: SettingWithCopyWarning: \n",
      "A value is trying to be set on a copy of a slice from a DataFrame\n",
      "\n",
      "See the caveats in the documentation: http://pandas.pydata.org/pandas-docs/stable/user_guide/indexing.html#returning-a-view-versus-a-copy\n",
      "  This is separate from the ipykernel package so we can avoid doing imports until\n"
     ]
    }
   ],
   "source": [
    "non_informant = handle_all_cases(non_informant)\n",
    "informant = handle_all_cases(informant)"
   ]
  },
  {
   "cell_type": "code",
   "execution_count": 246,
   "metadata": {},
   "outputs": [
    {
     "data": {
      "text/plain": [
       "['assault',\n",
       " 'court',\n",
       " 'defendant',\n",
       " 'defense',\n",
       " 'error',\n",
       " 'law',\n",
       " 'person',\n",
       " 'quotation',\n",
       " 'reasonable',\n",
       " 'time']"
      ]
     },
     "execution_count": 246,
     "metadata": {},
     "output_type": "execute_result"
    }
   ],
   "source": [
    "non_informant_word = tfidf(non_informant['text'],10)\n",
    "non_informant_word"
   ]
  },
  {
   "cell_type": "code",
   "execution_count": 247,
   "metadata": {},
   "outputs": [
    {
     "data": {
      "text/plain": [
       "['constitution',\n",
       " 'defendant',\n",
       " 'home',\n",
       " 'informant',\n",
       " 'information',\n",
       " 'reasonable',\n",
       " 'search',\n",
       " 'statements',\n",
       " 'warrant',\n",
       " 'witness']"
      ]
     },
     "execution_count": 247,
     "metadata": {},
     "output_type": "execute_result"
    }
   ],
   "source": [
    "informant_word = tfidf(informant['text'],10)\n",
    "informant_word"
   ]
  },
  {
   "cell_type": "markdown",
   "metadata": {},
   "source": [
    "# reversed cases with informant"
   ]
  },
  {
   "cell_type": "code",
   "execution_count": 32,
   "metadata": {},
   "outputs": [],
   "source": [
    "informant_in_reverse = reversed[reversed.text.str.contains('informant')]\n",
    "non_informant_in_reverse =  reversed[~reversed.text.str.contains('informant')]"
   ]
  },
  {
   "cell_type": "code",
   "execution_count": 33,
   "metadata": {},
   "outputs": [
    {
     "data": {
      "text/html": [
       "<div>\n",
       "<style scoped>\n",
       "    .dataframe tbody tr th:only-of-type {\n",
       "        vertical-align: middle;\n",
       "    }\n",
       "\n",
       "    .dataframe tbody tr th {\n",
       "        vertical-align: top;\n",
       "    }\n",
       "\n",
       "    .dataframe thead th {\n",
       "        text-align: right;\n",
       "    }\n",
       "</style>\n",
       "<table border=\"1\" class=\"dataframe\">\n",
       "  <thead>\n",
       "    <tr style=\"text-align: right;\">\n",
       "      <th></th>\n",
       "      <th>file name</th>\n",
       "      <th>title</th>\n",
       "      <th>type</th>\n",
       "      <th>decision</th>\n",
       "      <th>text</th>\n",
       "    </tr>\n",
       "  </thead>\n",
       "  <tbody>\n",
       "    <tr>\n",
       "      <td>211</td>\n",
       "      <td>robin076.pdf</td>\n",
       "      <td>THE STATE OF NEW HAMPSHIRE v. SCOTT ROBINSON</td>\n",
       "      <td>Criminal</td>\n",
       "      <td>reversed and remanded.</td>\n",
       "      <td>[ notice: this opinion is subject to motions f...</td>\n",
       "    </tr>\n",
       "    <tr>\n",
       "      <td>335</td>\n",
       "      <td>2010042nieve.pdf</td>\n",
       "      <td>THE STATE OF NEW HAMPSHIRE v. SOILUIS NIEVES</td>\n",
       "      <td>Criminal</td>\n",
       "      <td>reversed and remanded.</td>\n",
       "      <td>[ notice: this opinion is subject to motions f...</td>\n",
       "    </tr>\n",
       "    <tr>\n",
       "      <td>349</td>\n",
       "      <td>2010039parke.pdf</td>\n",
       "      <td>2008-886 THE STATE OF NEW HAMPSHIRE v. ANTHONY...</td>\n",
       "      <td>Criminal</td>\n",
       "      <td>reversed and remanded.</td>\n",
       "      <td>[ notice: this opinion is subject to motions f...</td>\n",
       "    </tr>\n",
       "  </tbody>\n",
       "</table>\n",
       "</div>"
      ],
      "text/plain": [
       "            file name                                              title  \\\n",
       "211      robin076.pdf       THE STATE OF NEW HAMPSHIRE v. SCOTT ROBINSON   \n",
       "335  2010042nieve.pdf       THE STATE OF NEW HAMPSHIRE v. SOILUIS NIEVES   \n",
       "349  2010039parke.pdf  2008-886 THE STATE OF NEW HAMPSHIRE v. ANTHONY...   \n",
       "\n",
       "         type                decision  \\\n",
       "211  Criminal  reversed and remanded.   \n",
       "335  Criminal  reversed and remanded.   \n",
       "349  Criminal  reversed and remanded.   \n",
       "\n",
       "                                                  text  \n",
       "211  [ notice: this opinion is subject to motions f...  \n",
       "335  [ notice: this opinion is subject to motions f...  \n",
       "349  [ notice: this opinion is subject to motions f...  "
      ]
     },
     "execution_count": 33,
     "metadata": {},
     "output_type": "execute_result"
    }
   ],
   "source": [
    "informant_in_reverse"
   ]
  },
  {
   "cell_type": "code",
   "execution_count": 34,
   "metadata": {},
   "outputs": [
    {
     "data": {
      "text/plain": [
       "['child',\n",
       " 'conduct',\n",
       " 'court',\n",
       " 'defendant',\n",
       " 'defense',\n",
       " 'force',\n",
       " 'officers',\n",
       " 'omitted',\n",
       " 'person',\n",
       " 'sexual']"
      ]
     },
     "execution_count": 34,
     "metadata": {},
     "output_type": "execute_result"
    }
   ],
   "source": [
    "non_info_r_word = tfidf(non_informant_in_reverse['text'],10)\n",
    "non_info_r_word"
   ]
  },
  {
   "cell_type": "code",
   "execution_count": 35,
   "metadata": {},
   "outputs": [
    {
     "data": {
      "text/plain": [
       "['circumstances',\n",
       " 'defendant',\n",
       " 'detective',\n",
       " 'home',\n",
       " 'officer',\n",
       " 'officers',\n",
       " 'promise',\n",
       " 'requirement',\n",
       " 'search',\n",
       " 'warrant']"
      ]
     },
     "execution_count": 35,
     "metadata": {},
     "output_type": "execute_result"
    }
   ],
   "source": [
    "info_r_word = tfidf(informant_in_reverse['text'],10)\n",
    "info_r_word"
   ]
  },
  {
   "cell_type": "markdown",
   "metadata": {},
   "source": [
    "The reversed cases with informant is not related to child and sexual. "
   ]
  },
  {
   "cell_type": "markdown",
   "metadata": {},
   "source": [
    "# affirmed cases with informant"
   ]
  },
  {
   "cell_type": "code",
   "execution_count": 36,
   "metadata": {},
   "outputs": [],
   "source": [
    "informant_in_affirmed = affirmed[affirmed.text.str.contains('informant')]\n",
    "non_informant_in_affirmed =  affirmed[~affirmed.text.str.contains('informant')]"
   ]
  },
  {
   "cell_type": "code",
   "execution_count": 37,
   "metadata": {},
   "outputs": [
    {
     "data": {
      "text/plain": [
       "['constitution',\n",
       " 'crime',\n",
       " 'defendant',\n",
       " 'informant',\n",
       " 'information',\n",
       " 'instruction',\n",
       " 'murder',\n",
       " 'reasonable',\n",
       " 'statements',\n",
       " 'witness']"
      ]
     },
     "execution_count": 37,
     "metadata": {},
     "output_type": "execute_result"
    }
   ],
   "source": [
    "info_a_word = tfidf(informant_in_affirmed['text'],10)\n",
    "info_a_word"
   ]
  },
  {
   "cell_type": "code",
   "execution_count": 38,
   "metadata": {},
   "outputs": [
    {
     "data": {
      "text/plain": [
       "['court',\n",
       " 'defendant',\n",
       " 'defense',\n",
       " 'error',\n",
       " 'omitted',\n",
       " 'person',\n",
       " 'quotation',\n",
       " 'reasonable',\n",
       " 'testified',\n",
       " 'time']"
      ]
     },
     "execution_count": 38,
     "metadata": {},
     "output_type": "execute_result"
    }
   ],
   "source": [
    "non_info_a_word = tfidf(non_informant_in_affirmed['text'],10)\n",
    "non_info_a_word"
   ]
  },
  {
   "cell_type": "code",
   "execution_count": null,
   "metadata": {},
   "outputs": [],
   "source": []
  },
  {
   "cell_type": "markdown",
   "metadata": {},
   "source": [
    "In affirmed cases with informant, the feature 'murder' may be important "
   ]
  },
  {
   "cell_type": "code",
   "execution_count": null,
   "metadata": {},
   "outputs": [],
   "source": []
  },
  {
   "cell_type": "markdown",
   "metadata": {},
   "source": [
    "# similarity "
   ]
  },
  {
   "cell_type": "code",
   "execution_count": 321,
   "metadata": {},
   "outputs": [],
   "source": [
    "a = []\n",
    "for i in range(len(reversed)):\n",
    "    a.append(reversed.text.iloc[i].split(' '))\n",
    "    "
   ]
  },
  {
   "cell_type": "code",
   "execution_count": 322,
   "metadata": {},
   "outputs": [],
   "source": [
    "#a = reversed.text.iloc[24].split(' ')"
   ]
  },
  {
   "cell_type": "code",
   "execution_count": 323,
   "metadata": {},
   "outputs": [],
   "source": [
    "from gensim.models import Word2Vec"
   ]
  },
  {
   "cell_type": "code",
   "execution_count": 324,
   "metadata": {},
   "outputs": [],
   "source": [
    "word2vec_model =Word2Vec(a,min_count=10)\n"
   ]
  },
  {
   "cell_type": "code",
   "execution_count": 325,
   "metadata": {},
   "outputs": [
    {
     "name": "stdout",
     "output_type": "stream",
     "text": [
      "Word2Vec(vocab=2178, size=100, alpha=0.025)\n"
     ]
    }
   ],
   "source": [
    "print(word2vec_model)"
   ]
  },
  {
   "cell_type": "code",
   "execution_count": 326,
   "metadata": {},
   "outputs": [
    {
     "data": {
      "text/plain": [
       "[('dissented', 0.9956627488136292),\n",
       " ('dissenting', 0.9939828515052795),\n",
       " ('broderick', 0.9935615062713623),\n",
       " ('sullivan', 0.9934263229370117),\n",
       " ('remanded', 0.9922259449958801),\n",
       " ('concurring', 0.9913089275360107),\n",
       " ('superior', 0.9879065752029419),\n",
       " ('jj', 0.9861634969711304),\n",
       " ('william', 0.9841510057449341),\n",
       " ('conboy', 0.9825245141983032)]"
      ]
     },
     "execution_count": 326,
     "metadata": {},
     "output_type": "execute_result"
    }
   ],
   "source": [
    "word2vec_model.wv.most_similar('reversed')"
   ]
  },
  {
   "cell_type": "code",
   "execution_count": 328,
   "metadata": {},
   "outputs": [
    {
     "data": {
      "text/plain": [
       "file name                                         sulli038.pdf\n",
       "title        THE STATE OF NEW HAMPSHIRE v. WILLIAM JOSEPH S...\n",
       "type                                                  Criminal\n",
       "decision                                reversed and remanded.\n",
       "text         notice this opinion is subject to motions for ...\n",
       "Name: 43, dtype: object"
      ]
     },
     "execution_count": 328,
     "metadata": {},
     "output_type": "execute_result"
    }
   ],
   "source": [
    "reversed.iloc[0]"
   ]
  },
  {
   "cell_type": "code",
   "execution_count": null,
   "metadata": {},
   "outputs": [],
   "source": []
  },
  {
   "cell_type": "code",
   "execution_count": 335,
   "metadata": {},
   "outputs": [],
   "source": [
    "b=reversed.text.iloc[0].split(' ')\n"
   ]
  },
  {
   "cell_type": "code",
   "execution_count": 338,
   "metadata": {},
   "outputs": [],
   "source": [
    "word2vec_model1 =Word2Vec([b],min_count=1)\n"
   ]
  },
  {
   "cell_type": "code",
   "execution_count": 339,
   "metadata": {},
   "outputs": [
    {
     "data": {
      "text/plain": [
       "[('meritorious', 0.6856645345687866),\n",
       " ('with', 0.6722795963287354),\n",
       " ('when', 0.6688871383666992),\n",
       " ('this', 0.6684521436691284),\n",
       " ('questions', 0.6663250923156738),\n",
       " ('very', 0.6662308573722839),\n",
       " ('no', 0.6647916436195374),\n",
       " ('also', 0.6647704839706421),\n",
       " ('n', 0.6646958589553833),\n",
       " ('we', 0.6638684272766113)]"
      ]
     },
     "execution_count": 339,
     "metadata": {},
     "output_type": "execute_result"
    }
   ],
   "source": [
    "word2vec_model1.wv.most_similar('reversed')"
   ]
  },
  {
   "cell_type": "code",
   "execution_count": null,
   "metadata": {},
   "outputs": [],
   "source": []
  }
 ],
 "metadata": {
  "kernelspec": {
   "display_name": "Python 3",
   "language": "python",
   "name": "python3"
  },
  "language_info": {
   "codemirror_mode": {
    "name": "ipython",
    "version": 3
   },
   "file_extension": ".py",
   "mimetype": "text/x-python",
   "name": "python",
   "nbconvert_exporter": "python",
   "pygments_lexer": "ipython3",
   "version": "3.6.9"
  }
 },
 "nbformat": 4,
 "nbformat_minor": 2
}
